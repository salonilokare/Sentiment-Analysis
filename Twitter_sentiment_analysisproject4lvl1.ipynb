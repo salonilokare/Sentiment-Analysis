{
 "cells": [
  {
   "cell_type": "code",
   "execution_count": 4,
   "id": "cfc1ac4c-06e5-4b33-ba44-8b01b9d9ef5e",
   "metadata": {},
   "outputs": [
    {
     "data": {
      "text/html": [
       "<div>\n",
       "<style scoped>\n",
       "    .dataframe tbody tr th:only-of-type {\n",
       "        vertical-align: middle;\n",
       "    }\n",
       "\n",
       "    .dataframe tbody tr th {\n",
       "        vertical-align: top;\n",
       "    }\n",
       "\n",
       "    .dataframe thead th {\n",
       "        text-align: right;\n",
       "    }\n",
       "</style>\n",
       "<table border=\"1\" class=\"dataframe\">\n",
       "  <thead>\n",
       "    <tr style=\"text-align: right;\">\n",
       "      <th></th>\n",
       "      <th>clean_text</th>\n",
       "      <th>category</th>\n",
       "    </tr>\n",
       "  </thead>\n",
       "  <tbody>\n",
       "    <tr>\n",
       "      <th>0</th>\n",
       "      <td>when modi promised “minimum government maximum...</td>\n",
       "      <td>-1.0</td>\n",
       "    </tr>\n",
       "    <tr>\n",
       "      <th>1</th>\n",
       "      <td>talk all the nonsense and continue all the dra...</td>\n",
       "      <td>0.0</td>\n",
       "    </tr>\n",
       "    <tr>\n",
       "      <th>2</th>\n",
       "      <td>what did just say vote for modi  welcome bjp t...</td>\n",
       "      <td>1.0</td>\n",
       "    </tr>\n",
       "    <tr>\n",
       "      <th>3</th>\n",
       "      <td>asking his supporters prefix chowkidar their n...</td>\n",
       "      <td>1.0</td>\n",
       "    </tr>\n",
       "    <tr>\n",
       "      <th>4</th>\n",
       "      <td>answer who among these the most powerful world...</td>\n",
       "      <td>1.0</td>\n",
       "    </tr>\n",
       "  </tbody>\n",
       "</table>\n",
       "</div>"
      ],
      "text/plain": [
       "                                          clean_text  category\n",
       "0  when modi promised “minimum government maximum...      -1.0\n",
       "1  talk all the nonsense and continue all the dra...       0.0\n",
       "2  what did just say vote for modi  welcome bjp t...       1.0\n",
       "3  asking his supporters prefix chowkidar their n...       1.0\n",
       "4  answer who among these the most powerful world...       1.0"
      ]
     },
     "execution_count": 4,
     "metadata": {},
     "output_type": "execute_result"
    }
   ],
   "source": [
    "from textblob import TextBlob\n",
    "import matplotlib.pyplot as plt\n",
    "import pandas as pd\n",
    "import seaborn as sns\n",
    "\n",
    "df=pd.read_csv(r\"C:\\Users\\HP\\Desktop\\Oasis internship\\Sentiment Analysis project4lvl1\\twitter dataset\\Twitter_Data.csv\")\n",
    "df.head()"
   ]
  },
  {
   "cell_type": "code",
   "execution_count": 5,
   "id": "076d643c-9c89-4ce1-995d-4acdc2419327",
   "metadata": {},
   "outputs": [],
   "source": [
    "results = []\n",
    "\n",
    "for sentence in sentences:\n",
    "    # Create a TextBlob object\n",
    "    blob = TextBlob(sentence)\n",
    "\n",
    "    # Get the polarity score\n",
    "    polarity = blob.sentiment.polarity\n",
    "\n",
    "    # Classify the sentiment based on the polarity score\n",
    "    if polarity > 0:\n",
    "        sentiment = 'Positive'\n",
    "    elif polarity < 0:\n",
    "        sentiment = 'Negative'\n",
    "    else:\n",
    "        sentiment = 'Neutral'\n",
    "\n",
    "    # Store the results\n",
    "    results.append({\n",
    "        'Sentence': sentence,\n",
    "        'Polarity': polarity,\n",
    "        'Sentiment': sentiment\n",
    "    })\n",
    "\n",
    "# Convert the results to a pandas DataFrame for easy viewing\n",
    "df = pd.DataFrame(results)\n"
   ]
  },
  {
   "cell_type": "code",
   "execution_count": 6,
   "id": "84200634-23ff-4d46-a539-bf666e042fec",
   "metadata": {},
   "outputs": [
    {
     "name": "stdout",
     "output_type": "stream",
     "text": [
      "Sentiment Analysis Results:\n",
      "                                            Sentence  Polarity Sentiment\n",
      "0  I love using this library, it's so easy and in...  0.520833  Positive\n",
      "1  The movie was a complete disaster from start t...  0.100000  Positive\n",
      "2  This is a factual statement without any emotio...  0.000000   Neutral\n",
      "3                    What a wonderful and sunny day!  1.000000  Positive\n",
      "4  I am very upset with the poor quality of the p... -0.100000  Negative\n",
      "5  The new restaurant in town is okay, but not ex...  0.101010  Positive\n"
     ]
    }
   ],
   "source": [
    "print(\"Sentiment Analysis Results:\")\n",
    "print(df)"
   ]
  },
  {
   "cell_type": "code",
   "execution_count": 7,
   "id": "f5e92bed-5241-4ee7-b131-935b3db61a33",
   "metadata": {},
   "outputs": [
    {
     "name": "stdout",
     "output_type": "stream",
     "text": [
      "\n",
      "Summary of Sentiments:\n",
      "Sentiment\n",
      "Positive    4\n",
      "Neutral     1\n",
      "Negative    1\n",
      "Name: count, dtype: int64\n"
     ]
    },
    {
     "name": "stderr",
     "output_type": "stream",
     "text": [
      "C:\\Users\\HP\\AppData\\Local\\Temp\\ipykernel_14672\\1927017273.py:10: FutureWarning: \n",
      "\n",
      "Passing `palette` without assigning `hue` is deprecated and will be removed in v0.14.0. Assign the `x` variable to `hue` and set `legend=False` for the same effect.\n",
      "\n",
      "  sns.barplot(x=sentiment_counts.index, y=sentiment_counts.values, palette=['#4CAF50', '#F44336', '#9E9E9E'])\n"
     ]
    },
    {
     "data": {
      "image/png": "[encoded data removed]",
      "text/plain": [
       "<Figure size 700x500 with 1 Axes>"
      ]
     },
     "metadata": {},
     "output_type": "display_data"
    }
   ],
   "source": [
    "sentiment_counts = df['Sentiment'].value_counts()\n",
    "\n",
    "print(\"\\nSummary of Sentiments:\")\n",
    "print(sentiment_counts)\n",
    "\n",
    "# Create a bar plot to visualize the distribution of sentiments\n",
    "plt.figure(figsize=(7, 5))\n",
    "sns.barplot(x=sentiment_counts.index, y=sentiment_counts.values, palette=['#4CAF50', '#F44336', '#9E9E9E'])\n",
    "plt.title('Distribution of Sentiments in Sentences')\n",
    "plt.xlabel('Sentiment')\n",
    "plt.ylabel('Number of Sentences')\n",
    "plt.show()"
   ]
  },
  {
   "cell_type": "code",
   "execution_count": null,
   "id": "81136067-7345-41a6-8f06-d4366f6caeba",
   "metadata": {},
   "outputs": [],
   "source": []
  }
 ],
 "metadata": {
  "kernelspec": {
   "display_name": "Python 3.13 (Same as CMD)",
   "language": "python",
   "name": "python313"
  },
  "language_info": {
   "codemirror_mode": {
    "name": "ipython",
    "version": 3
   },
   "file_extension": ".py",
   "mimetype": "text/x-python",
   "name": "python",
   "nbconvert_exporter": "python",
   "pygments_lexer": "ipython3",
   "version": "3.13.5"
  }
 },
 "nbformat": 4,
 "nbformat_minor": 5
}
